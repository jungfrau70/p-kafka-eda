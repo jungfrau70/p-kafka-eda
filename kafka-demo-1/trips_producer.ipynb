{
 "cells": [
  {
   "cell_type": "code",
   "execution_count": 1,
   "id": "a1c95259-edda-48d3-a6dc-0854880ba39e",
   "metadata": {},
   "outputs": [
    {
     "name": "stdout",
     "output_type": "stream",
     "text": [
      "Overwriting ./trips/trips_producer.py\n"
     ]
    }
   ],
   "source": [
    "%%writefile ./trips/trips_producer.py\n",
    "\n",
    "from kafka import KafkaProducer \n",
    "import csv \n",
    "import json \n",
    "import time \n",
    "\n",
    "brokers = [\"kafka1:19091\", \"kafka2:19092\", \"kafka3:19093\"]\n",
    "# brokers = [\"kafka1:9091\", \"kafka2:9092\", \"kafka3:9093\"]\n",
    "\n",
    "producer = KafkaProducer(bootstrap_servers = brokers)\n",
    "\n",
    "topicName = \"telegraf-kr1-metric\"\n",
    "\n",
    "with open(\"./trips/yellow_tripdata_2021-01.csv\", \"r\") as file:\n",
    "  reader = csv.reader(file)\n",
    "  headings = next(reader)\n",
    "\n",
    "  for row in reader:\n",
    "    producer.send(topicName, json.dumps(row).encode(\"utf-8\"))\n",
    "    print(row)\n",
    "    time.sleep(1)"
   ]
  },
  {
   "cell_type": "code",
   "execution_count": 2,
   "id": "675f38e4-dd95-4ecf-9bd9-0160d837203d",
   "metadata": {},
   "outputs": [
    {
     "name": "stdout",
     "output_type": "stream",
     "text": [
      "Traceback (most recent call last):\n",
      "  File \"./trips/trips_producer.py\", line 14, in <module>\n",
      "    with open(\"./trips/yellow_tripdata_2021-01.csv\", \"r\") as file:\n",
      "FileNotFoundError: [Errno 2] No such file or directory: './trips/yellow_tripdata_2021-01.csv'\n"
     ]
    }
   ],
   "source": [
    "! python3 ./trips/trips_producer.py"
   ]
  },
  {
   "cell_type": "code",
   "execution_count": null,
   "id": "df7c72db-ad00-4a89-8016-80017d1beadb",
   "metadata": {},
   "outputs": [],
   "source": []
  }
 ],
 "metadata": {
  "kernelspec": {
   "display_name": "Python 3",
   "language": "python",
   "name": "python3"
  },
  "language_info": {
   "codemirror_mode": {
    "name": "ipython",
    "version": 3
   },
   "file_extension": ".py",
   "mimetype": "text/x-python",
   "name": "python",
   "nbconvert_exporter": "python",
   "pygments_lexer": "ipython3",
   "version": "3.6.9"
  }
 },
 "nbformat": 4,
 "nbformat_minor": 5
}
